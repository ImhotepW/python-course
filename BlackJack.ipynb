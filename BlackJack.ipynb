{
 "cells": [
  {
   "cell_type": "markdown",
   "metadata": {},
   "source": [
    "Deck class first. It can shuffle the cards and peek one.\n",
    "\n",
    "Cards are represented by a Tuple of value and suit."
   ]
  },
  {
   "cell_type": "code",
   "execution_count": null,
   "metadata": {
    "collapsed": false
   },
   "outputs": [],
   "source": [
    "\n",
    "import random\n",
    "\n",
    "class Deck:\n",
    "    '''\n",
    "    Class to represent the Black Jack game\n",
    "    It contains deck of cards, stored as list of tuples e.g. (2, '♠')\n",
    "    '''   \n",
    "    \n",
    "    def __init__(self):\n",
    "        '''\n",
    "        Initializing instance you create a deck of cards\n",
    "        '''\n",
    "        self.cards = []\n",
    "\n",
    "        # For each of possible suites\n",
    "        for suit in ['♥','♦','♣','♠']:\n",
    "            # We define numeric values of the cards (except 10)\n",
    "            for value in range(2,10):\n",
    "                self.cards.append((value,suit))\n",
    "            # Next we define upper values like Ten, Ace, Quinn, etc.\n",
    "            for value in ['T','J','Q','K','A']:\n",
    "                self.cards.append((value,suit))\n",
    "    \n",
    "    def shuffle(self):\n",
    "        '''Shuffles cards in the deck'''\n",
    "        random.shuffle(self.cards)\n",
    "        \n",
    "    def peek(self, amount=1):\n",
    "        '''\n",
    "        Method to peek a card from the deck\n",
    "        INPUT: amount of cards to be returned\n",
    "        OUTPUT: returns Tuple with the card representation \n",
    "        '''\n",
    "        result = []\n",
    "        for i in range(0,amount):\n",
    "            result.append(self.cards.pop())\n",
    "        return result\n",
    "        "
   ]
  },
  {
   "cell_type": "markdown",
   "metadata": {},
   "source": [
    "Next we define Hand class to store drawed cards for each player. \n",
    "\n",
    "It can print hand and count values of the cards."
   ]
  },
  {
   "cell_type": "code",
   "execution_count": null,
   "metadata": {
    "collapsed": false
   },
   "outputs": [],
   "source": [
    "\n",
    "class Hand:\n",
    "    '''\n",
    "    Class to represent player's hand \n",
    "    '''\n",
    "\n",
    "    def __init__(self, name, cards=[]):\n",
    "        '''\n",
    "        To initialise player's hand you need to provide a list with tuples \n",
    "        For instance [(2, '♠'), ([)'A', '♥')]\n",
    "        '''\n",
    "        self.name = name\n",
    "        self.cards = cards\n",
    "        self.score = self.get_score()\n",
    "\n",
    "    \n",
    "    def print_hand(self, hide_last = False):\n",
    "        '''\n",
    "        Draws a hand in a readable form\n",
    "        INPUTS: if hide_last is True last card of the Hand will be printed face down\n",
    "        OUTPUT: string representing cards in the Hand\n",
    "        '''\n",
    "        print('{} hand:'.format(self.name))\n",
    "        cards_cnt = len(self.cards)\n",
    "        prnt  =     ' _____    '*len(self.cards)+'\\n'\n",
    "        prnt +=     '|     |   '*len(self.cards)+'\\n'\n",
    "        for i in range(0, cards_cnt):\n",
    "            prnt += '|  {}  |   '.format('*' if (hide_last and i==cards_cnt-1) else self.cards[i][0])\n",
    "        prnt += '\\n'\n",
    "        prnt +=     '|     |   '*len(self.cards)+'\\n'\n",
    "        for i in range(0, cards_cnt):\n",
    "            prnt += '|  {}  |   '.format('*' if (hide_last and i==cards_cnt-1) else self.cards[i][1])\n",
    "        prnt += '\\n'\n",
    "        prnt +=     '|_____|   '*len(self.cards)+'\\n'\n",
    "\n",
    "        return prnt\n",
    "    \n",
    "    def hit(self, card):\n",
    "        '''Peek card to the Hand'''\n",
    "        self.cards += card  \n",
    "        self.score = self.get_score()\n",
    "    \n",
    "    def get_score(self):\n",
    "        '''Returns overall score of the player's hand'''\n",
    "        score = 0\n",
    "        for value, suit in self.cards:\n",
    "            if value in ['T', 'J', 'Q', 'K']:\n",
    "                score += 10\n",
    "            elif value == 'A':\n",
    "                if score + 11 <= 21:\n",
    "                    score += 11\n",
    "                else:\n",
    "                    score += 1\n",
    "            else:\n",
    "                score += value\n",
    "        return score\n",
    "            \n",
    "    \n",
    "    def __str__(self):\n",
    "        '''String representation of the Hand class'''\n",
    "        return self.print_hand()"
   ]
  },
  {
   "cell_type": "markdown",
   "metadata": {},
   "source": [
    "And the Game begins!\n",
    "\n",
    "This will be main game loop"
   ]
  },
  {
   "cell_type": "code",
   "execution_count": 2,
   "metadata": {
    "collapsed": false
   },
   "outputs": [
    {
     "name": "stdout",
     "output_type": "stream",
     "text": [
      "Your balance is 130\n",
      "Dealer hand:\n",
      " _____     _____     _____     _____     _____    \n",
      "|     |   |     |   |     |   |     |   |     |   \n",
      "|  7  |   |  3  |   |  Q  |   |  A  |   |  2  |   \n",
      "|     |   |     |   |     |   |     |   |     |   \n",
      "|  ♦  |   |  ♠  |   |  ♣  |   |  ♦  |   |  ♥  |   \n",
      "|_____|   |_____|   |_____|   |_____|   |_____|   \n",
      "\n",
      "Player hand:\n",
      " _____     _____    \n",
      "|     |   |     |   \n",
      "|  2  |   |  8  |   \n",
      "|     |   |     |   \n",
      "|  ♣  |   |  ♦  |   \n",
      "|_____|   |_____|   \n",
      "\n",
      "Bust! Dealer loose... You WIN 10!!!\n",
      "Would you like to (L)eave or (S)tay and contunue? l\n",
      "Thank you for playing with us!\n",
      "Your final balance is 140\n",
      "Good Bye!\n"
     ]
    }
   ],
   "source": [
    "from IPython.display import clear_output\n",
    "from Deck import Deck\n",
    "from Hand import Hand\n",
    "\n",
    "def request_bet(balance):\n",
    "    '''This function requests the player to bet some amount of the balance '''\n",
    "    the_bet = 0\n",
    "    while the_bet == 0: \n",
    "        try:\n",
    "            the_bet = int(input('Place your bet: '))\n",
    "            if the_bet > balance:\n",
    "                the_bet = 0\n",
    "                print('Not enough balance!')\n",
    "        except ValueError:\n",
    "            print('Please, input ingeger value!')\n",
    "    return the_bet    \n",
    "\n",
    "def questing(message ,variants):\n",
    "    '''Ask player something in message\n",
    "    OUTPUT: return True if player choose first two of provided variants, otherwise False\n",
    "    '''\n",
    "    answer = ''\n",
    "    while answer not in variants:\n",
    "        answer = input(message).lower()\n",
    "    return answer in variants[0:1]\n",
    "\n",
    "\n",
    "print('Welcome to Black Jack!')\n",
    "\n",
    "# Assigning balance\n",
    "balance = 100\n",
    "bet = 0\n",
    "\n",
    "while True:\n",
    "    deck = Deck()\n",
    "    deck.shuffle()\n",
    "    player = Hand('Player', deck.peek(2))\n",
    "    dealer = Hand('Dealer', deck.peek(2))\n",
    "    # Initial deck\n",
    "    print(\"Your balance is {}\".format(balance))\n",
    "    bet = request_bet(100)\n",
    "    print(\"Cool, let's start! Drawing cards...\\n\")\n",
    "    print(dealer.print_hand(True))\n",
    "    print(player)\n",
    "    \n",
    "    # Player turn\n",
    "    while player.score < 21 and questing('How do you like it? Whant to (H)it or (S)tand? ', ['h','hit','s','stand']):\n",
    "        player.hit(deck.peek())        \n",
    "        #print('\\n'*100)\n",
    "        clear_output()\n",
    "        print(\"Your balance is {}\".format(balance))\n",
    "        print(dealer.print_hand(True))\n",
    "        print(player)\n",
    "        if player.score > 21:\n",
    "            break\n",
    "    \n",
    "    # Dealer turn\n",
    "    while dealer.score <= 21 and player.score < 21:\n",
    "        dealer.hit(deck.peek())\n",
    "    \n",
    "    # Final deck\n",
    "    clear_output()\n",
    "    #print('\\n'*100)\n",
    "    print(\"Your balance is {}\".format(balance))\n",
    "    print(dealer)\n",
    "    print(player)\n",
    "    \n",
    "    # And the winner is\n",
    "    if player.score > 21:\n",
    "        print('Bust! Sorry, but you loose your bet...')\n",
    "        balance -= bet\n",
    "    elif dealer.score > 21:\n",
    "        print('Bust! Dealer loose... You WIN {}!!!'.format(bet))\n",
    "        balance += bet\n",
    "    elif (dealer.score == player.score):\n",
    "        print('Push! Your bet is back...')\n",
    "        balance += bet\n",
    "    elif dealer.score > player.score :\n",
    "        print('Dealer WIN! Sorry, but you loose your bet...')\n",
    "    elif dealer.score < player.score :\n",
    "        print('Congratulations, you WIN {}!!!'.format(bet))\n",
    "        balance += bet\n",
    "    else:\n",
    "        pass\n",
    "\n",
    "    if balance == 0 or questing('Would you like to (L)eave or (S)tay and contunue? ',['l','leave','s','stay']):\n",
    "        print('Thank you for playing with us!')\n",
    "        print('Your final balance is {}'.format(balance))\n",
    "        print('Good Bye!')\n",
    "        break\n",
    "    else:\n",
    "        #print('\\n'*100) \n",
    "        clear_output()"
   ]
  },
  {
   "cell_type": "code",
   "execution_count": 8,
   "metadata": {
    "collapsed": false
   },
   "outputs": [
    {
     "name": "stdout",
     "output_type": "stream",
     "text": [
      "someStay\n"
     ]
    },
    {
     "data": {
      "text/plain": [
       "False"
      ]
     },
     "execution_count": 8,
     "metadata": {},
     "output_type": "execute_result"
    }
   ],
   "source": [
    "questing('some', ['s','stay','h','hit'])"
   ]
  },
  {
   "cell_type": "code",
   "execution_count": 10,
   "metadata": {
    "collapsed": false
   },
   "outputs": [
    {
     "data": {
      "text/plain": [
       "True"
      ]
     },
     "execution_count": 10,
     "metadata": {},
     "output_type": "execute_result"
    }
   ],
   "source": [
    "'stay' in ['s','stay','h','hit'][0:2]"
   ]
  },
  {
   "cell_type": "code",
   "execution_count": null,
   "metadata": {
    "collapsed": true
   },
   "outputs": [],
   "source": []
  }
 ],
 "metadata": {
  "kernelspec": {
   "display_name": "Python 3",
   "language": "python",
   "name": "python3"
  },
  "language_info": {
   "codemirror_mode": {
    "name": "ipython",
    "version": 3
   },
   "file_extension": ".py",
   "mimetype": "text/x-python",
   "name": "python",
   "nbconvert_exporter": "python",
   "pygments_lexer": "ipython3",
   "version": "3.6.0"
  }
 },
 "nbformat": 4,
 "nbformat_minor": 2
}
